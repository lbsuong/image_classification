{
  "nbformat": 4,
  "nbformat_minor": 0,
  "metadata": {
    "accelerator": "GPU",
    "colab": {
      "name": "test_blocksize.ipynb",
      "provenance": [],
      "collapsed_sections": []
    },
    "kernelspec": {
      "display_name": "Python 3",
      "name": "python3"
    },
    "language_info": {
      "name": "python"
    }
  },
  "cells": [
    {
      "cell_type": "code",
      "metadata": {
        "colab": {
          "base_uri": "https://localhost:8080/"
        },
        "id": "3lozkcsatGNM",
        "outputId": "d7bbb083-a0b3-413f-a31f-4fa86923fe92"
      },
      "source": [
        "!python source_cuda_ver_2_16.py"
      ],
      "execution_count": null,
      "outputs": [
        {
          "output_type": "stream",
          "text": [
            "2021-07-07 05:23:42.345012: I tensorflow/stream_executor/platform/default/dso_loader.cc:53] Successfully opened dynamic library libcudart.so.11.0\n",
            "Loading data...\n",
            "Shuffle training data\n",
            "Normalizing and copying data to GPU...\n",
            "Initiating parameters...\n",
            "Start training...\n",
            "\n",
            "--------------Our model--------------\n",
            "\n",
            "Epoch 1/10\n",
            "\t14s - loss: 0.9764 - accuracy: 0.7583 - val_loss: 0.4594 - val_accuracy: 0.8768\n",
            "Epoch 2/10\n",
            "\t11s - loss: 0.4271 - accuracy: 0.8792 - val_loss: 0.3668 - val_accuracy: 0.8952\n",
            "Epoch 3/10\n",
            "\t11s - loss: 0.3755 - accuracy: 0.8909 - val_loss: 0.3385 - val_accuracy: 0.9029\n",
            "Epoch 4/10\n",
            "\t11s - loss: 0.3548 - accuracy: 0.8963 - val_loss: 0.3242 - val_accuracy: 0.9077\n",
            "Epoch 5/10\n",
            "\t11s - loss: 0.3427 - accuracy: 0.9002 - val_loss: 0.3152 - val_accuracy: 0.9108\n",
            "Epoch 6/10\n",
            "\t11s - loss: 0.3345 - accuracy: 0.9026 - val_loss: 0.3089 - val_accuracy: 0.9123\n",
            "Epoch 7/10\n",
            "\t11s - loss: 0.3282 - accuracy: 0.9046 - val_loss: 0.3040 - val_accuracy: 0.9132\n",
            "Epoch 8/10\n",
            "\t11s - loss: 0.3231 - accuracy: 0.9061 - val_loss: 0.3000 - val_accuracy: 0.9141\n",
            "Epoch 9/10\n",
            "\t11s - loss: 0.3188 - accuracy: 0.9075 - val_loss: 0.2966 - val_accuracy: 0.9151\n",
            "Epoch 10/10\n",
            "\t11s - loss: 0.3151 - accuracy: 0.9088 - val_loss: 0.2937 - val_accuracy: 0.9161\n",
            "Total runtime: 00:01:57\n"
          ],
          "name": "stdout"
        }
      ]
    },
    {
      "cell_type": "code",
      "metadata": {
        "colab": {
          "base_uri": "https://localhost:8080/"
        },
        "id": "f5-6PMA4oYHo",
        "outputId": "a07be4bb-bff7-4474-95f0-3004cc5e0856"
      },
      "source": [
        "!python source_cuda_ver_2_32.py"
      ],
      "execution_count": null,
      "outputs": [
        {
          "output_type": "stream",
          "text": [
            "2021-07-07 05:25:43.152448: I tensorflow/stream_executor/platform/default/dso_loader.cc:53] Successfully opened dynamic library libcudart.so.11.0\n",
            "Loading data...\n",
            "Shuffle training data\n",
            "Normalizing and copying data to GPU...\n",
            "Initiating parameters...\n",
            "Start training...\n",
            "\n",
            "--------------Our model--------------\n",
            "\n",
            "Epoch 1/10\n",
            "\t14s - loss: 0.9731 - accuracy: 0.7643 - val_loss: 0.4634 - val_accuracy: 0.8748\n",
            "Epoch 2/10\n",
            "\t11s - loss: 0.4275 - accuracy: 0.8789 - val_loss: 0.3698 - val_accuracy: 0.8958\n",
            "Epoch 3/10\n",
            "\t11s - loss: 0.3758 - accuracy: 0.8916 - val_loss: 0.3406 - val_accuracy: 0.9039\n",
            "Epoch 4/10\n",
            "\t11s - loss: 0.3550 - accuracy: 0.8965 - val_loss: 0.3259 - val_accuracy: 0.9094\n",
            "Epoch 5/10\n",
            "\t11s - loss: 0.3430 - accuracy: 0.9002 - val_loss: 0.3167 - val_accuracy: 0.9116\n",
            "Epoch 6/10\n",
            "\t11s - loss: 0.3347 - accuracy: 0.9022 - val_loss: 0.3102 - val_accuracy: 0.9120\n",
            "Epoch 7/10\n",
            "\t11s - loss: 0.3284 - accuracy: 0.9043 - val_loss: 0.3053 - val_accuracy: 0.9132\n",
            "Epoch 8/10\n",
            "\t11s - loss: 0.3233 - accuracy: 0.9061 - val_loss: 0.3012 - val_accuracy: 0.9142\n",
            "Epoch 9/10\n",
            "\t11s - loss: 0.3190 - accuracy: 0.9073 - val_loss: 0.2978 - val_accuracy: 0.9145\n",
            "Epoch 10/10\n",
            "\t11s - loss: 0.3153 - accuracy: 0.9081 - val_loss: 0.2949 - val_accuracy: 0.9154\n",
            "Total runtime: 00:01:56\n"
          ],
          "name": "stdout"
        }
      ]
    },
    {
      "cell_type": "code",
      "metadata": {
        "colab": {
          "base_uri": "https://localhost:8080/"
        },
        "id": "XwqiGvN8bDbc",
        "outputId": "94fa7a0f-cd0f-47c2-e633-a6e21e9c2525"
      },
      "source": [
        "!python source_cuda_ver_3_16.py"
      ],
      "execution_count": null,
      "outputs": [
        {
          "output_type": "stream",
          "text": [
            "2021-07-07 05:31:59.586862: I tensorflow/stream_executor/platform/default/dso_loader.cc:53] Successfully opened dynamic library libcudart.so.11.0\n",
            "Loading data...\n",
            "Shuffle training data\n",
            "Normalizing and copying data to GPU...\n",
            "Initiating parameters...\n",
            "Start training...\n",
            "\n",
            "--------------Our model--------------\n",
            "\n",
            "Epoch 1/10\n",
            "\t13s - loss: 2.3027 - accuracy: 0.0929 - val_loss: 2.2181 - val_accuracy: 0.1649\n",
            "Epoch 2/10\n",
            "\t10s - loss: 2.2196 - accuracy: 0.1603 - val_loss: 2.1444 - val_accuracy: 0.3287\n",
            "Epoch 3/10\n",
            "\t10s - loss: 2.1463 - accuracy: 0.3165 - val_loss: 2.0689 - val_accuracy: 0.4702\n",
            "Epoch 4/10\n",
            "\t10s - loss: 2.0705 - accuracy: 0.4481 - val_loss: 1.9895 - val_accuracy: 0.5546\n",
            "Epoch 5/10\n",
            "\t10s - loss: 1.9905 - accuracy: 0.5302 - val_loss: 1.9051 - val_accuracy: 0.6098\n",
            "Epoch 6/10\n",
            "\t10s - loss: 1.9055 - accuracy: 0.5879 - val_loss: 1.8157 - val_accuracy: 0.6477\n",
            "Epoch 7/10\n",
            "\t10s - loss: 1.8155 - accuracy: 0.6293 - val_loss: 1.7221 - val_accuracy: 0.6806\n",
            "Epoch 8/10\n",
            "\t10s - loss: 1.7216 - accuracy: 0.6610 - val_loss: 1.6258 - val_accuracy: 0.7044\n",
            "Epoch 9/10\n",
            "\t10s - loss: 1.6254 - accuracy: 0.6866 - val_loss: 1.5289 - val_accuracy: 0.7266\n",
            "Epoch 10/10\n",
            "\t10s - loss: 1.5293 - accuracy: 0.7067 - val_loss: 1.4340 - val_accuracy: 0.7410\n",
            "Total runtime: 00:01:44\n"
          ],
          "name": "stdout"
        }
      ]
    },
    {
      "cell_type": "code",
      "metadata": {
        "colab": {
          "base_uri": "https://localhost:8080/"
        },
        "id": "8TszxWqfhfMJ",
        "outputId": "96e6485e-b55a-4e68-a03f-dbf2d41c6ece"
      },
      "source": [
        "!python source_cuda_ver_3_32.py"
      ],
      "execution_count": null,
      "outputs": [
        {
          "output_type": "stream",
          "text": [
            "2021-07-07 05:27:46.347068: I tensorflow/stream_executor/platform/default/dso_loader.cc:53] Successfully opened dynamic library libcudart.so.11.0\n",
            "Loading data...\n",
            "Shuffle training data\n",
            "Normalizing and copying data to GPU...\n",
            "Initiating parameters...\n",
            "Start training...\n",
            "\n",
            "--------------Our model--------------\n",
            "\n",
            "Epoch 1/10\n",
            "\t14s - loss: 2.3025 - accuracy: 0.0966 - val_loss: 2.2277 - val_accuracy: 0.1668\n",
            "Epoch 2/10\n",
            "\t10s - loss: 2.2290 - accuracy: 0.1621 - val_loss: 2.1621 - val_accuracy: 0.2944\n",
            "Epoch 3/10\n",
            "\t10s - loss: 2.1637 - accuracy: 0.2826 - val_loss: 2.0947 - val_accuracy: 0.4290\n",
            "Epoch 4/10\n",
            "\t10s - loss: 2.0961 - accuracy: 0.4103 - val_loss: 2.0232 - val_accuracy: 0.5239\n",
            "Epoch 5/10\n",
            "\t10s - loss: 2.0241 - accuracy: 0.5001 - val_loss: 1.9463 - val_accuracy: 0.5864\n",
            "Epoch 6/10\n",
            "\t10s - loss: 1.9464 - accuracy: 0.5628 - val_loss: 1.8635 - val_accuracy: 0.6284\n",
            "Epoch 7/10\n",
            "\t10s - loss: 1.8629 - accuracy: 0.6089 - val_loss: 1.7752 - val_accuracy: 0.6640\n",
            "Epoch 8/10\n",
            "\t11s - loss: 1.7741 - accuracy: 0.6448 - val_loss: 1.6827 - val_accuracy: 0.6915\n",
            "Epoch 9/10\n",
            "\t10s - loss: 1.6815 - accuracy: 0.6728 - val_loss: 1.5877 - val_accuracy: 0.7134\n",
            "Epoch 10/10\n",
            "\t11s - loss: 1.5870 - accuracy: 0.6951 - val_loss: 1.4927 - val_accuracy: 0.7324\n",
            "Total runtime: 00:01:52\n"
          ],
          "name": "stdout"
        }
      ]
    },
    {
      "cell_type": "code",
      "metadata": {
        "colab": {
          "background_save": true,
          "base_uri": "https://localhost:8080/"
        },
        "id": "krl3dxY5tLAu",
        "outputId": "ff0c0dea-aad4-4b2c-e0c4-1f242be6e8f8"
      },
      "source": [
        "!python source_cuda_ver_1_16.py"
      ],
      "execution_count": null,
      "outputs": [
        {
          "output_type": "stream",
          "text": [
            "2021-07-07 05:35:37.002897: I tensorflow/stream_executor/platform/default/dso_loader.cc:53] Successfully opened dynamic library libcudart.so.11.0\n",
            "Loading data...\n",
            "Shuffle training data\n",
            "Normalizing and copying data to GPU...\n",
            "Initiating parameters...\n",
            "Start training...\n",
            "\n",
            "--------------Our model--------------\n",
            "\n",
            "Epoch 1/10\n",
            "\t388s - loss: 0.9822 - accuracy: 0.7600 - val_loss: 0.4615 - val_accuracy: 0.8769\n",
            "Epoch 2/10\n",
            "\t385s - loss: 0.4270 - accuracy: 0.8797 - val_loss: 0.3682 - val_accuracy: 0.8949\n",
            "Epoch 3/10\n",
            "\t382s - loss: 0.3752 - accuracy: 0.8904 - val_loss: 0.3397 - val_accuracy: 0.9031\n",
            "Epoch 4/10\n",
            "\t381s - loss: 0.3544 - accuracy: 0.8963 - val_loss: 0.3252 - val_accuracy: 0.9067\n",
            "Epoch 5/10\n",
            "\t381s - loss: 0.3425 - accuracy: 0.8999 - val_loss: 0.3161 - val_accuracy: 0.9091\n",
            "Epoch 6/10\n",
            "\t380s - loss: 0.3343 - accuracy: 0.9019 - val_loss: 0.3097 - val_accuracy: 0.9101\n",
            "Epoch 7/10\n",
            "\t380s - loss: 0.3280 - accuracy: 0.9037 - val_loss: 0.3047 - val_accuracy: 0.9113\n",
            "Epoch 8/10\n",
            "\t381s - loss: 0.3230 - accuracy: 0.9056 - val_loss: 0.3007 - val_accuracy: 0.9123\n",
            "Epoch 9/10\n",
            "\t381s - loss: 0.3188 - accuracy: 0.9072 - val_loss: 0.2973 - val_accuracy: 0.9128\n",
            "Epoch 10/10\n",
            "\t381s - loss: 0.3151 - accuracy: 0.9084 - val_loss: 0.2943 - val_accuracy: 0.9141\n",
            "Total runtime: 01:03:43\n"
          ],
          "name": "stdout"
        }
      ]
    },
    {
      "cell_type": "code",
      "metadata": {
        "colab": {
          "base_uri": "https://localhost:8080/"
        },
        "id": "CpybkUIVpbXK",
        "outputId": "9f6834f8-3f5d-4e3f-803e-a4183aa9ca93"
      },
      "source": [
        "!python source_cuda_ver_1_32.py"
      ],
      "execution_count": null,
      "outputs": [
        {
          "output_type": "stream",
          "text": [
            "2021-07-04 10:14:12.597576: I tensorflow/stream_executor/platform/default/dso_loader.cc:53] Successfully opened dynamic library libcudart.so.11.0\n",
            "Loading data...\n",
            "Shuffle training data\n",
            "Normalizing and copying data to GPU...\n",
            "Initiating parameters...\n",
            "Start training...\n",
            "\n",
            "--------------Our model--------------\n",
            "\n",
            "Epoch 1/10\n",
            "\t387s - loss: 0.9797 - accuracy: 0.7602 - val_loss: 0.4642 - val_accuracy: 0.8754\n",
            "Epoch 2/10\n",
            "\t384s - loss: 0.4270 - accuracy: 0.8794 - val_loss: 0.3721 - val_accuracy: 0.8916\n",
            "Epoch 3/10\n",
            "\t382s - loss: 0.3753 - accuracy: 0.8909 - val_loss: 0.3440 - val_accuracy: 0.9014\n",
            "Epoch 4/10\n",
            "\t383s - loss: 0.3545 - accuracy: 0.8961 - val_loss: 0.3297 - val_accuracy: 0.9057\n",
            "Epoch 5/10\n",
            "\t383s - loss: 0.3425 - accuracy: 0.8998 - val_loss: 0.3207 - val_accuracy: 0.9086\n",
            "Epoch 6/10\n",
            "\t385s - loss: 0.3343 - accuracy: 0.9022 - val_loss: 0.3143 - val_accuracy: 0.9098\n",
            "Epoch 7/10\n",
            "\t384s - loss: 0.3280 - accuracy: 0.9040 - val_loss: 0.3094 - val_accuracy: 0.9107\n",
            "Epoch 8/10\n",
            "\t384s - loss: 0.3229 - accuracy: 0.9055 - val_loss: 0.3054 - val_accuracy: 0.9122\n",
            "Epoch 9/10\n",
            "\t386s - loss: 0.3187 - accuracy: 0.9066 - val_loss: 0.3020 - val_accuracy: 0.9127\n",
            "Epoch 10/10\n",
            "\t383s - loss: 0.3149 - accuracy: 0.9080 - val_loss: 0.2989 - val_accuracy: 0.9137\n",
            "Total runtime: 01:04:05\n"
          ],
          "name": "stdout"
        }
      ]
    }
  ]
}