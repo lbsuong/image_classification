{
  "nbformat": 4,
  "nbformat_minor": 0,
  "metadata": {
    "colab": {
      "name": "report.ipynb",
      "provenance": [],
      "collapsed_sections": []
    },
    "kernelspec": {
      "name": "python3",
      "display_name": "Python 3"
    },
    "language_info": {
      "name": "python"
    }
  },
  "cells": [
    {
      "cell_type": "markdown",
      "metadata": {
        "id": "v1Ct8kRnL8KT"
      },
      "source": [
        "# **1. Mô tả ứng dụng** \n",
        "\n",
        "*   **Ứng dụng mà nhóm chọn:** Huấn luyện Convolutional Neural Network để phân lớp ảnh bằng Stochastic Gradient Descent.\n",
        "   *   **Input:** Tập dữ liệu ảnh số viết tay của MNIST.\n",
        "\n",
        "   *   **Output:** Mô hình sau khi huấn luyện.\n",
        "\n",
        "   *   **Ý nghĩa của ứng dụng trong thực tế:** Giúp số hoá tài liệu, OCR...\n",
        "\n",
        "*   **Ứng dụng này có cần phải tăng tốc không:** Có, vì tập dữ liệu lớn và có nhiều hidden layer nên chạy rất chậm nếu chạy tuần tự.\n",
        "\n",
        "*   **Ứng dụng này có thể tăng tốc bằng cách song song hóa không**: Có, vì trong đó có phép convolution, phép nhân ma trận, phép max-pooling,..."
      ]
    },
    {
      "cell_type": "markdown",
      "metadata": {
        "id": "2J40nxE6n6cF"
      },
      "source": [
        "# **2. Cài đặt tuần tự**\n",
        "\n",
        "*   **Thiết kế:**\n",
        "    *   Nhóm em sẽ chia 60.000 hình ảnh đầu tiên để làm tập train và 10.000 hình ảnh còn lại để làm tập test.\n",
        "    *   CNN sẽ có 1 convolutional layer với 8 filter có kích thước là 3x3, 1 max-pooling layer với kích thước là 2x2, 1 fully connected layer với 10 node và activation là hàm softmax.\n",
        "        ![](https://drive.google.com/uc?export=view&id=1c6uKsl_h7n2eXLJqGB2lY-faF4MHjBJL)\n",
        "    *   Các giá trị của hình ảnh đầu vào sẽ được chuẩn hoá về trong khoảng[-0.5,0.5] để chống việc giá trị đầu ra quá lớn.\n",
        "    *   Các trọng số sẽ được khởi tạo ngẫu nhiên và sẽ được chia cho số lượng các trọng số có trong 1 node (cụ thể là 9 đối với convolutional layer và 1352 đối với fully connected layer) cũng để chống việc giá trị đầu ra quá lớn.\n",
        "    *   Nhóm sẽ dùng cross-entropy loss: \\begin{equation}L=-\\text{ln}(p_c)\\end{equation} với $p_c$ là xác suất của nhãn đúng $c$, để tính độ lỗi.\n",
        "    *   Để có thể cập nhật các trọng số và bias của từng layer, ta sẽ tính gradient của mỗi layer bằng cách sử dụng quy tắc mắc xích. Chi tiết công thức có trong tài liệu tham khảo [2].\n",
        "    \n",
        "*   **Đánh giá:**\n",
        "    *   Với 1.000 hình ảnh đầu tiên trong tập train và chỉ cập nhật trọng số và bias của fully connected layer, nhóm chỉ có thể đạt được độ chính xác khoảng 60% và độ lỗi trung bình khoảng 1,7; thời gian chạy tương đối nhanh.\n",
        "    *   Nhưng khi tăng lên khoảng 2.000 hình ảnh hoặc tăng số filter ở convolutional layer lên thành 32, nhóm lại gặp phải vấn đề \"chia cho 0\"  vì trong quá trình lan truyền ngược nhóm có sử dụng phép chia và sau mỗi lần lan truyền ngược thì số chia lại trở nên nhỏ hơn, đến mức máy tính làm tròn thành 0. Hiện tại nhóm vẫn chưa có giải pháp để giải quyết vấn đề này.\n"
      ]
    },
    {
      "cell_type": "markdown",
      "metadata": {
        "id": "mTnEOJceMiNC"
      },
      "source": [
        "# **3. Cài đặt song song (trên GPU)**\n",
        "\n",
        "*   **Phân tích:**\n",
        "*   **Thiết kế:**\n",
        "*   **Đánh giá:**"
      ]
    },
    {
      "cell_type": "markdown",
      "metadata": {
        "id": "sY6xiR6NMkOC"
      },
      "source": [
        "# **4. Cài đặt song song (trên GPU) + tối ưu hóa**"
      ]
    },
    {
      "cell_type": "markdown",
      "metadata": {
        "id": "Vt9Vym-5Mnpi"
      },
      "source": [
        "# **5. Nhìn lại quá trình làm đồ án**"
      ]
    },
    {
      "cell_type": "markdown",
      "metadata": {
        "id": "J-zg6xzbLTeU"
      },
      "source": [
        "# **6. Tài liệu tham khảo**\n",
        "\n",
        "[1] https://victorzhou.com/blog/intro-to-cnns-part-1/\n",
        "\n",
        "[2] https://victorzhou.com/blog/intro-to-cnns-part-2/"
      ]
    }
  ]
}