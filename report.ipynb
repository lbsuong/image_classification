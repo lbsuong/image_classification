{
  "nbformat": 4,
  "nbformat_minor": 0,
  "metadata": {
    "colab": {
      "name": "Untitled2.ipynb",
      "provenance": []
    },
    "kernelspec": {
      "name": "python3",
      "display_name": "Python 3"
    },
    "language_info": {
      "name": "python"
    }
  },
  "cells": [
    {
      "cell_type": "markdown",
      "metadata": {
        "id": "v1Ct8kRnL8KT"
      },
      "source": [
        "# **1. Mô tả ứng dụng** \n",
        "\n",
        "*   **Ứng dụng mà nhóm chọn:** huấn luyện Convolutional Neural Network để phân lớp ảnh bằng Stochastic Gradient Descent.\n",
        "   *   **Input:** 1 bức ảnh số viết tay có kích thước 28x28.\n",
        "\n",
        "   *   **Output:** số được viết trong bức ảnh.\n",
        "\n",
        "   *   **Ý nghĩa của ứng dụng trong thực tế:** giúp máy tính có thể tự nhận biết trong hình là số mấy, từ đó tăng tốc độ cho các tác vụ liên quan.\n",
        "\n",
        "*   **Ứng dụng này có cần phải tăng tốc không:** có, vì ứng dụng huấn luyện Convolutional Neural Network có tiềm năng song song hóa vì trong đó có phép convolution, phép nhân ma trận."
      ]
    },
    {
      "cell_type": "markdown",
      "metadata": {
        "id": "KG9nmobfMZo6"
      },
      "source": [
        "# **2. Cài đặt tuần tự**\n",
        "\n",
        "*   **Thiết kế:**\n",
        "*   **Đánh giá:**\n"
      ]
    },
    {
      "cell_type": "markdown",
      "metadata": {
        "id": "mTnEOJceMiNC"
      },
      "source": [
        "# **3. Cài đặt song song (trên GPU)**\n",
        "\n",
        "*   **Phân tích:**\n",
        "*   **Thiết kế:**\n",
        "*   **Đánh giá:**"
      ]
    },
    {
      "cell_type": "markdown",
      "metadata": {
        "id": "sY6xiR6NMkOC"
      },
      "source": [
        "# **4. Cài đặt song song (trên GPU) + tối ưu hóa**"
      ]
    },
    {
      "cell_type": "markdown",
      "metadata": {
        "id": "Vt9Vym-5Mnpi"
      },
      "source": [
        "# **5. Nhìn lại quá trình làm đồ án**"
      ]
    },
    {
      "cell_type": "markdown",
      "metadata": {
        "id": "J-zg6xzbLTeU"
      },
      "source": [
        "# **6. Tài liệu tham khảo**\n",
        "\n",
        "https://www.kaggle.com/cdeotte/how-to-choose-cnn-architecture-mnist\n",
        "\n",
        "https://victorzhou.com/blog/intro-to-cnns-part-1/\n",
        "\n",
        "https://victorzhou.com/blog/intro-to-cnns-part-2/"
      ]
    }
  ]
}