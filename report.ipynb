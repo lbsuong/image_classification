{
  "nbformat": 4,
  "nbformat_minor": 0,
  "metadata": {
    "colab": {
      "name": "Untitled2.ipynb",
      "provenance": []
    },
    "kernelspec": {
      "name": "python3",
      "display_name": "Python 3"
    },
    "language_info": {
      "name": "python"
    }
  },
  "cells": [
    {
      "cell_type": "markdown",
      "metadata": {
        "id": "v1Ct8kRnL8KT"
      },
      "source": [
        "# **1. Mô tả ứng dụng** \n",
        "\n",
        "*   **Ứng dụng mà nhóm chọn:** Huấn luyện Convolutional Neural Network để phân lớp ảnh bằng Stochastic Gradient Descent.\n",
        "   *   **Input:**\n",
        "\n",
        "   *   **Output:**\n",
        "\n",
        "   *   **Ý nghĩa của ứng dụng trong thực tế:**\n",
        "\n",
        "*   **Ứng dụng này có cần phải tăng tốc không:** có, vì ..."
      ]
    },
    {
      "cell_type": "markdown",
      "metadata": {
        "id": "KG9nmobfMZo6"
      },
      "source": [
        "# **2. Cài đặt tuần tự**\n",
        "\n",
        "*   **Thiết kế:**\n",
        "*   **Đánh giá:**\n"
      ]
    },
    {
      "cell_type": "markdown",
      "metadata": {
        "id": "mTnEOJceMiNC"
      },
      "source": [
        "# **3. Cài đặt song song (trên GPU)**\n",
        "\n",
        "*   **Phân tích:**\n",
        "*   **Thiết kế:**\n",
        "*   **Đánh giá:**"
      ]
    },
    {
      "cell_type": "markdown",
      "metadata": {
        "id": "sY6xiR6NMkOC"
      },
      "source": [
        "# **4. Cài đặt song song (trên GPU) + tối ưu hóa**"
      ]
    },
    {
      "cell_type": "markdown",
      "metadata": {
        "id": "Vt9Vym-5Mnpi"
      },
      "source": [
        "# **5. Nhìn lại quá trình làm đồ án**"
      ]
    },
    {
      "cell_type": "markdown",
      "metadata": {
        "id": "J-zg6xzbLTeU"
      },
      "source": [
        "# **6. Tài liệu tham khảo**\n",
        "\n",
        "https://www.kaggle.com/cdeotte/how-to-choose-cnn-architecture-mnist\n",
        "\n",
        "https://towardsdatascience.com/wtf-is-image-classification-8e78a8235acb"
      ]
    }
  ]
}